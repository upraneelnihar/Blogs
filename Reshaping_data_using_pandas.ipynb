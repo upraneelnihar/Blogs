{
 "cells": [
  {
   "cell_type": "markdown",
   "metadata": {},
   "source": [
    "# Restructuring Data Using Pandas  `stack`, `unstack`, `melt`, `pivot` and `pivot_table` functions."
   ]
  },
  {
   "cell_type": "markdown",
   "metadata": {},
   "source": [
    "Data analysis is the first and foremost step in machine learning life cycle. It includes inspecting, cleaning, transforming and modelling data with a goal to discover useful information, informing conclusions and support decision making. Python's pandas librabry is one of the powerful and widely used tool for data analysis. In this blog we will try to understand some of the widely used pandas methods for reshaping or restructuring the data listed below.\n",
    "- `stack`\n",
    "- `melt` \n",
    "- `unstack`\n",
    "- `pivot`\n",
    "- `pivot_table` "
   ]
  },
  {
   "cell_type": "markdown",
   "metadata": {},
   "source": [
    "### Why should we reshape or restructure data?\n",
    "\n",
    "Real world data is not always in a consumable form. It contains lots of missing entries and errors. It is easy to extract data from the rows and columns of a data but there are situations when we need the data in a format that is different from format in which we received it. Therefore it is important to clean and restructure the data to a consumable form. Reshaping data includes converting columns to rows, rows to columns and performing aggregation to bring the data into a form which is easy to analyse."
   ]
  },
  {
   "cell_type": "markdown",
   "metadata": {},
   "source": [
    "Let us create a sample messy dataset and see how we can apply the above methods to reshape the data into a consumable form.We will also be using the pandas helper methods `set_index`, `reset_index`, `rename` and `rename_axis` to add final touches to the dataframe."
   ]
  },
  {
   "cell_type": "markdown",
   "metadata": {},
   "source": [
    "# Sample Dataset"
   ]
  },
  {
   "cell_type": "code",
   "execution_count": 1,
   "metadata": {},
   "outputs": [],
   "source": [
    "import pandas as pd\n",
    "import numpy as np\n",
    "\n",
    "# Sensors data of 2 sensors for last 2 years.\n",
    "iterables = [['sensor1', 'sensor2'],\n",
    "             ['Pressure', 'Temperature', 'Flow']]\n",
    "\n",
    "index = pd.MultiIndex.from_product(iterables,names=['Sensor', 'Metric'])\n",
    "\n",
    "df_sensors = pd.DataFrame(np.random.randint(low=40, high=100,size=(6,2)),\n",
    "                          index=index,\n",
    "                          columns=['2017', '2018']).reset_index()"
   ]
  },
  {
   "cell_type": "code",
   "execution_count": 2,
   "metadata": {},
   "outputs": [
    {
     "data": {
      "text/html": [
       "<div>\n",
       "<style scoped>\n",
       "    .dataframe tbody tr th:only-of-type {\n",
       "        vertical-align: middle;\n",
       "    }\n",
       "\n",
       "    .dataframe tbody tr th {\n",
       "        vertical-align: top;\n",
       "    }\n",
       "\n",
       "    .dataframe thead th {\n",
       "        text-align: right;\n",
       "    }\n",
       "</style>\n",
       "<table border=\"1\" class=\"dataframe\">\n",
       "  <thead>\n",
       "    <tr style=\"text-align: right;\">\n",
       "      <th></th>\n",
       "      <th>Sensor</th>\n",
       "      <th>Metric</th>\n",
       "      <th>2017</th>\n",
       "      <th>2018</th>\n",
       "    </tr>\n",
       "  </thead>\n",
       "  <tbody>\n",
       "    <tr>\n",
       "      <th>0</th>\n",
       "      <td>sensor1</td>\n",
       "      <td>Pressure</td>\n",
       "      <td>83</td>\n",
       "      <td>49</td>\n",
       "    </tr>\n",
       "    <tr>\n",
       "      <th>1</th>\n",
       "      <td>sensor1</td>\n",
       "      <td>Temperature</td>\n",
       "      <td>49</td>\n",
       "      <td>90</td>\n",
       "    </tr>\n",
       "    <tr>\n",
       "      <th>2</th>\n",
       "      <td>sensor1</td>\n",
       "      <td>Flow</td>\n",
       "      <td>61</td>\n",
       "      <td>72</td>\n",
       "    </tr>\n",
       "    <tr>\n",
       "      <th>3</th>\n",
       "      <td>sensor2</td>\n",
       "      <td>Pressure</td>\n",
       "      <td>64</td>\n",
       "      <td>58</td>\n",
       "    </tr>\n",
       "    <tr>\n",
       "      <th>4</th>\n",
       "      <td>sensor2</td>\n",
       "      <td>Temperature</td>\n",
       "      <td>41</td>\n",
       "      <td>99</td>\n",
       "    </tr>\n",
       "    <tr>\n",
       "      <th>5</th>\n",
       "      <td>sensor2</td>\n",
       "      <td>Flow</td>\n",
       "      <td>91</td>\n",
       "      <td>94</td>\n",
       "    </tr>\n",
       "  </tbody>\n",
       "</table>\n",
       "</div>"
      ],
      "text/plain": [
       "    Sensor       Metric  2017  2018\n",
       "0  sensor1     Pressure    83    49\n",
       "1  sensor1  Temperature    49    90\n",
       "2  sensor1         Flow    61    72\n",
       "3  sensor2     Pressure    64    58\n",
       "4  sensor2  Temperature    41    99\n",
       "5  sensor2         Flow    91    94"
      ]
     },
     "execution_count": 2,
     "metadata": {},
     "output_type": "execute_result"
    }
   ],
   "source": [
    "df_sensors"
   ]
  },
  {
   "cell_type": "markdown",
   "metadata": {},
   "source": [
    "# Stack\n",
    "\n",
    "The `stack` method takes all of the column names in the dataframe and reshapes them to be vertical as a single index level. Below mentioned are the input parameters to the function.\n",
    "- `level`: (int, str,list, default -1) Prescribed level(s) to stack from column axis onto index axis.\n",
    "- `dropna`: (bool, default  True) Whether to drop rows with missing values in the resulting frame, defaults.\n",
    "\n",
    "Output:\n",
    "- stacked dataframe or series.\n",
    "\n",
    "__Note: By default the `stack` function takes all the columns in the dataframe and reshapes them to a single vertical column as a series, therefore you need to set your index column explicitly using `pd.DataFrame.set_index` method before performing `stack` and then use `pd.DataFrame.reset_index()` to convert the output to a dataframe.__"
   ]
  },
  {
   "cell_type": "code",
   "execution_count": 3,
   "metadata": {},
   "outputs": [
    {
     "data": {
      "text/plain": [
       "0  Sensor        sensor1\n",
       "   Metric       Pressure\n",
       "   2017               83\n",
       "   2018               49\n",
       "1  Sensor        sensor1\n",
       "   Metric    Temperature\n",
       "   2017               49\n",
       "   2018               90\n",
       "2  Sensor        sensor1\n",
       "   Metric           Flow\n",
       "   2017               61\n",
       "   2018               72\n",
       "3  Sensor        sensor2\n",
       "   Metric       Pressure\n",
       "   2017               64\n",
       "   2018               58\n",
       "4  Sensor        sensor2\n",
       "   Metric    Temperature\n",
       "   2017               41\n",
       "   2018               99\n",
       "5  Sensor        sensor2\n",
       "   Metric           Flow\n",
       "   2017               91\n",
       "   2018               94\n",
       "dtype: object"
      ]
     },
     "execution_count": 3,
     "metadata": {},
     "output_type": "execute_result"
    }
   ],
   "source": [
    "df_sensors.stack()"
   ]
  },
  {
   "cell_type": "markdown",
   "metadata": {},
   "source": [
    "As mentioned `stack` by default takes in all the columns and converts then into a single vertical column at the inner most level. We have to explicitly set the index columns using `set_index` method before performing the `stack`."
   ]
  },
  {
   "cell_type": "markdown",
   "metadata": {},
   "source": [
    "Inorder convert the multiple year columns to a single year column we have to set the columns `Sensor`, `Metric` as index and apply `stack` function."
   ]
  },
  {
   "cell_type": "code",
   "execution_count": 4,
   "metadata": {},
   "outputs": [
    {
     "data": {
      "text/plain": [
       "Sensor   Metric           \n",
       "sensor1  Pressure     2017    83\n",
       "                      2018    49\n",
       "         Temperature  2017    49\n",
       "                      2018    90\n",
       "         Flow         2017    61\n",
       "                      2018    72\n",
       "sensor2  Pressure     2017    64\n",
       "                      2018    58\n",
       "         Temperature  2017    41\n",
       "                      2018    99\n",
       "         Flow         2017    91\n",
       "                      2018    94\n",
       "dtype: int64"
      ]
     },
     "execution_count": 4,
     "metadata": {},
     "output_type": "execute_result"
    }
   ],
   "source": [
    "df_sensors.set_index(['Sensor', 'Metric']).stack()"
   ]
  },
  {
   "cell_type": "markdown",
   "metadata": {},
   "source": [
    "We can see that the output is a `series` with hierarchial index. Inorder to convert it to a consumable dataframe we have to use pandas helper methods `reset_index`, `rename`."
   ]
  },
  {
   "cell_type": "code",
   "execution_count": 5,
   "metadata": {},
   "outputs": [
    {
     "data": {
      "text/html": [
       "<div>\n",
       "<style scoped>\n",
       "    .dataframe tbody tr th:only-of-type {\n",
       "        vertical-align: middle;\n",
       "    }\n",
       "\n",
       "    .dataframe tbody tr th {\n",
       "        vertical-align: top;\n",
       "    }\n",
       "\n",
       "    .dataframe thead th {\n",
       "        text-align: right;\n",
       "    }\n",
       "</style>\n",
       "<table border=\"1\" class=\"dataframe\">\n",
       "  <thead>\n",
       "    <tr style=\"text-align: right;\">\n",
       "      <th></th>\n",
       "      <th>Sensor</th>\n",
       "      <th>2017</th>\n",
       "      <th>2018</th>\n",
       "    </tr>\n",
       "    <tr>\n",
       "      <th>Metric</th>\n",
       "      <th></th>\n",
       "      <th></th>\n",
       "      <th></th>\n",
       "    </tr>\n",
       "  </thead>\n",
       "  <tbody>\n",
       "    <tr>\n",
       "      <th>Pressure</th>\n",
       "      <td>sensor1</td>\n",
       "      <td>83</td>\n",
       "      <td>49</td>\n",
       "    </tr>\n",
       "    <tr>\n",
       "      <th>Temperature</th>\n",
       "      <td>sensor1</td>\n",
       "      <td>49</td>\n",
       "      <td>90</td>\n",
       "    </tr>\n",
       "    <tr>\n",
       "      <th>Flow</th>\n",
       "      <td>sensor1</td>\n",
       "      <td>61</td>\n",
       "      <td>72</td>\n",
       "    </tr>\n",
       "    <tr>\n",
       "      <th>Pressure</th>\n",
       "      <td>sensor2</td>\n",
       "      <td>64</td>\n",
       "      <td>58</td>\n",
       "    </tr>\n",
       "    <tr>\n",
       "      <th>Temperature</th>\n",
       "      <td>sensor2</td>\n",
       "      <td>41</td>\n",
       "      <td>99</td>\n",
       "    </tr>\n",
       "    <tr>\n",
       "      <th>Flow</th>\n",
       "      <td>sensor2</td>\n",
       "      <td>91</td>\n",
       "      <td>94</td>\n",
       "    </tr>\n",
       "  </tbody>\n",
       "</table>\n",
       "</div>"
      ],
      "text/plain": [
       "              Sensor  2017  2018\n",
       "Metric                          \n",
       "Pressure     sensor1    83    49\n",
       "Temperature  sensor1    49    90\n",
       "Flow         sensor1    61    72\n",
       "Pressure     sensor2    64    58\n",
       "Temperature  sensor2    41    99\n",
       "Flow         sensor2    91    94"
      ]
     },
     "execution_count": 5,
     "metadata": {},
     "output_type": "execute_result"
    }
   ],
   "source": [
    "df_sensors.set_index(['Metric'])"
   ]
  },
  {
   "cell_type": "code",
   "execution_count": 6,
   "metadata": {},
   "outputs": [
    {
     "data": {
      "text/plain": [
       "Metric             \n",
       "Pressure     Sensor    sensor1\n",
       "             2017           83\n",
       "             2018           49\n",
       "Temperature  Sensor    sensor1\n",
       "             2017           49\n",
       "             2018           90\n",
       "Flow         Sensor    sensor1\n",
       "             2017           61\n",
       "             2018           72\n",
       "Pressure     Sensor    sensor2\n",
       "             2017           64\n",
       "             2018           58\n",
       "Temperature  Sensor    sensor2\n",
       "             2017           41\n",
       "             2018           99\n",
       "Flow         Sensor    sensor2\n",
       "             2017           91\n",
       "             2018           94\n",
       "dtype: object"
      ]
     },
     "execution_count": 6,
     "metadata": {},
     "output_type": "execute_result"
    }
   ],
   "source": [
    "df_sensors.set_index(['Metric']).stack()"
   ]
  },
  {
   "cell_type": "code",
   "execution_count": 7,
   "metadata": {},
   "outputs": [
    {
     "data": {
      "text/html": [
       "<div>\n",
       "<style scoped>\n",
       "    .dataframe tbody tr th:only-of-type {\n",
       "        vertical-align: middle;\n",
       "    }\n",
       "\n",
       "    .dataframe tbody tr th {\n",
       "        vertical-align: top;\n",
       "    }\n",
       "\n",
       "    .dataframe thead th {\n",
       "        text-align: right;\n",
       "    }\n",
       "</style>\n",
       "<table border=\"1\" class=\"dataframe\">\n",
       "  <thead>\n",
       "    <tr style=\"text-align: right;\">\n",
       "      <th></th>\n",
       "      <th>Sensor</th>\n",
       "      <th>Metric</th>\n",
       "      <th>Year</th>\n",
       "      <th>Value</th>\n",
       "    </tr>\n",
       "  </thead>\n",
       "  <tbody>\n",
       "    <tr>\n",
       "      <th>0</th>\n",
       "      <td>sensor1</td>\n",
       "      <td>Pressure</td>\n",
       "      <td>2017</td>\n",
       "      <td>83</td>\n",
       "    </tr>\n",
       "    <tr>\n",
       "      <th>1</th>\n",
       "      <td>sensor1</td>\n",
       "      <td>Pressure</td>\n",
       "      <td>2018</td>\n",
       "      <td>49</td>\n",
       "    </tr>\n",
       "    <tr>\n",
       "      <th>2</th>\n",
       "      <td>sensor1</td>\n",
       "      <td>Temperature</td>\n",
       "      <td>2017</td>\n",
       "      <td>49</td>\n",
       "    </tr>\n",
       "    <tr>\n",
       "      <th>3</th>\n",
       "      <td>sensor1</td>\n",
       "      <td>Temperature</td>\n",
       "      <td>2018</td>\n",
       "      <td>90</td>\n",
       "    </tr>\n",
       "    <tr>\n",
       "      <th>4</th>\n",
       "      <td>sensor1</td>\n",
       "      <td>Flow</td>\n",
       "      <td>2017</td>\n",
       "      <td>61</td>\n",
       "    </tr>\n",
       "    <tr>\n",
       "      <th>5</th>\n",
       "      <td>sensor1</td>\n",
       "      <td>Flow</td>\n",
       "      <td>2018</td>\n",
       "      <td>72</td>\n",
       "    </tr>\n",
       "    <tr>\n",
       "      <th>6</th>\n",
       "      <td>sensor2</td>\n",
       "      <td>Pressure</td>\n",
       "      <td>2017</td>\n",
       "      <td>64</td>\n",
       "    </tr>\n",
       "    <tr>\n",
       "      <th>7</th>\n",
       "      <td>sensor2</td>\n",
       "      <td>Pressure</td>\n",
       "      <td>2018</td>\n",
       "      <td>58</td>\n",
       "    </tr>\n",
       "    <tr>\n",
       "      <th>8</th>\n",
       "      <td>sensor2</td>\n",
       "      <td>Temperature</td>\n",
       "      <td>2017</td>\n",
       "      <td>41</td>\n",
       "    </tr>\n",
       "    <tr>\n",
       "      <th>9</th>\n",
       "      <td>sensor2</td>\n",
       "      <td>Temperature</td>\n",
       "      <td>2018</td>\n",
       "      <td>99</td>\n",
       "    </tr>\n",
       "  </tbody>\n",
       "</table>\n",
       "</div>"
      ],
      "text/plain": [
       "    Sensor       Metric  Year  Value\n",
       "0  sensor1     Pressure  2017     83\n",
       "1  sensor1     Pressure  2018     49\n",
       "2  sensor1  Temperature  2017     49\n",
       "3  sensor1  Temperature  2018     90\n",
       "4  sensor1         Flow  2017     61\n",
       "5  sensor1         Flow  2018     72\n",
       "6  sensor2     Pressure  2017     64\n",
       "7  sensor2     Pressure  2018     58\n",
       "8  sensor2  Temperature  2017     41\n",
       "9  sensor2  Temperature  2018     99"
      ]
     },
     "execution_count": 7,
     "metadata": {},
     "output_type": "execute_result"
    }
   ],
   "source": [
    "(df_sensors.set_index(['Sensor', 'Metric'])\n",
    " .stack()\n",
    " .reset_index()\n",
    " .rename(columns={'level_2': 'Year', 0: 'Value'})\n",
    " .head(10))"
   ]
  },
  {
   "cell_type": "markdown",
   "metadata": {},
   "source": [
    "# Melt\n",
    "\n",
    "Pandas has different ways to accomplish the same task, the difference being readability and performance. Pandas dataframe method name `melt` works similarly to `stack` but gives more flexibilty.The method takes in the below 5 parameters out of which two parameters namely `id_vars` and `value_vars` are crucial to understand how to reshape your data.\n",
    "- `id_vars`:(list,tuple or ndarray) list of column names that you want to preseve as columns and not reshape.(optional)\n",
    "- `value_vars`:(list,tuple or ndarray) list of column names that you want to reshape as columns.(optional)\n",
    "- `var_name`: (scalar) Name to use for the variable column,defaults to `variable`.(optional)\n",
    "- `value_name`:(scalar) Name to use for the value column, defaults to `value`.(optional)\n",
    "- `col_level`:(int or string) If column are multindex then use this level to melt.(optional)\n",
    "\n",
    "All of the above parameters mentioned are optional. Let us try to understand the usage of each of the parameters with examples.\\\n",
    "\n",
    "__Note: The advantage of `melt`over `stack` is that you can mention the column name which you want to preserve in the index without explicitly setting them as index using `set_index`.__"
   ]
  },
  {
   "cell_type": "code",
   "execution_count": 8,
   "metadata": {},
   "outputs": [
    {
     "data": {
      "text/html": [
       "<div>\n",
       "<style scoped>\n",
       "    .dataframe tbody tr th:only-of-type {\n",
       "        vertical-align: middle;\n",
       "    }\n",
       "\n",
       "    .dataframe tbody tr th {\n",
       "        vertical-align: top;\n",
       "    }\n",
       "\n",
       "    .dataframe thead th {\n",
       "        text-align: right;\n",
       "    }\n",
       "</style>\n",
       "<table border=\"1\" class=\"dataframe\">\n",
       "  <thead>\n",
       "    <tr style=\"text-align: right;\">\n",
       "      <th></th>\n",
       "      <th>Sensor</th>\n",
       "      <th>Metric</th>\n",
       "      <th>2017</th>\n",
       "      <th>2018</th>\n",
       "    </tr>\n",
       "  </thead>\n",
       "  <tbody>\n",
       "    <tr>\n",
       "      <th>0</th>\n",
       "      <td>sensor1</td>\n",
       "      <td>Pressure</td>\n",
       "      <td>83</td>\n",
       "      <td>49</td>\n",
       "    </tr>\n",
       "    <tr>\n",
       "      <th>1</th>\n",
       "      <td>sensor1</td>\n",
       "      <td>Temperature</td>\n",
       "      <td>49</td>\n",
       "      <td>90</td>\n",
       "    </tr>\n",
       "    <tr>\n",
       "      <th>2</th>\n",
       "      <td>sensor1</td>\n",
       "      <td>Flow</td>\n",
       "      <td>61</td>\n",
       "      <td>72</td>\n",
       "    </tr>\n",
       "    <tr>\n",
       "      <th>3</th>\n",
       "      <td>sensor2</td>\n",
       "      <td>Pressure</td>\n",
       "      <td>64</td>\n",
       "      <td>58</td>\n",
       "    </tr>\n",
       "    <tr>\n",
       "      <th>4</th>\n",
       "      <td>sensor2</td>\n",
       "      <td>Temperature</td>\n",
       "      <td>41</td>\n",
       "      <td>99</td>\n",
       "    </tr>\n",
       "    <tr>\n",
       "      <th>5</th>\n",
       "      <td>sensor2</td>\n",
       "      <td>Flow</td>\n",
       "      <td>91</td>\n",
       "      <td>94</td>\n",
       "    </tr>\n",
       "  </tbody>\n",
       "</table>\n",
       "</div>"
      ],
      "text/plain": [
       "    Sensor       Metric  2017  2018\n",
       "0  sensor1     Pressure    83    49\n",
       "1  sensor1  Temperature    49    90\n",
       "2  sensor1         Flow    61    72\n",
       "3  sensor2     Pressure    64    58\n",
       "4  sensor2  Temperature    41    99\n",
       "5  sensor2         Flow    91    94"
      ]
     },
     "execution_count": 8,
     "metadata": {},
     "output_type": "execute_result"
    }
   ],
   "source": [
    "df_sensors"
   ]
  },
  {
   "cell_type": "code",
   "execution_count": 9,
   "metadata": {},
   "outputs": [
    {
     "data": {
      "text/html": [
       "<div>\n",
       "<style scoped>\n",
       "    .dataframe tbody tr th:only-of-type {\n",
       "        vertical-align: middle;\n",
       "    }\n",
       "\n",
       "    .dataframe tbody tr th {\n",
       "        vertical-align: top;\n",
       "    }\n",
       "\n",
       "    .dataframe thead th {\n",
       "        text-align: right;\n",
       "    }\n",
       "</style>\n",
       "<table border=\"1\" class=\"dataframe\">\n",
       "  <thead>\n",
       "    <tr style=\"text-align: right;\">\n",
       "      <th></th>\n",
       "      <th>Sensor</th>\n",
       "      <th>Metric</th>\n",
       "      <th>variable</th>\n",
       "      <th>value</th>\n",
       "    </tr>\n",
       "  </thead>\n",
       "  <tbody>\n",
       "    <tr>\n",
       "      <th>0</th>\n",
       "      <td>sensor1</td>\n",
       "      <td>Pressure</td>\n",
       "      <td>2017</td>\n",
       "      <td>83</td>\n",
       "    </tr>\n",
       "    <tr>\n",
       "      <th>1</th>\n",
       "      <td>sensor1</td>\n",
       "      <td>Temperature</td>\n",
       "      <td>2017</td>\n",
       "      <td>49</td>\n",
       "    </tr>\n",
       "    <tr>\n",
       "      <th>2</th>\n",
       "      <td>sensor1</td>\n",
       "      <td>Flow</td>\n",
       "      <td>2017</td>\n",
       "      <td>61</td>\n",
       "    </tr>\n",
       "    <tr>\n",
       "      <th>3</th>\n",
       "      <td>sensor2</td>\n",
       "      <td>Pressure</td>\n",
       "      <td>2017</td>\n",
       "      <td>64</td>\n",
       "    </tr>\n",
       "    <tr>\n",
       "      <th>4</th>\n",
       "      <td>sensor2</td>\n",
       "      <td>Temperature</td>\n",
       "      <td>2017</td>\n",
       "      <td>41</td>\n",
       "    </tr>\n",
       "    <tr>\n",
       "      <th>5</th>\n",
       "      <td>sensor2</td>\n",
       "      <td>Flow</td>\n",
       "      <td>2017</td>\n",
       "      <td>91</td>\n",
       "    </tr>\n",
       "    <tr>\n",
       "      <th>6</th>\n",
       "      <td>sensor1</td>\n",
       "      <td>Pressure</td>\n",
       "      <td>2018</td>\n",
       "      <td>49</td>\n",
       "    </tr>\n",
       "    <tr>\n",
       "      <th>7</th>\n",
       "      <td>sensor1</td>\n",
       "      <td>Temperature</td>\n",
       "      <td>2018</td>\n",
       "      <td>90</td>\n",
       "    </tr>\n",
       "    <tr>\n",
       "      <th>8</th>\n",
       "      <td>sensor1</td>\n",
       "      <td>Flow</td>\n",
       "      <td>2018</td>\n",
       "      <td>72</td>\n",
       "    </tr>\n",
       "    <tr>\n",
       "      <th>9</th>\n",
       "      <td>sensor2</td>\n",
       "      <td>Pressure</td>\n",
       "      <td>2018</td>\n",
       "      <td>58</td>\n",
       "    </tr>\n",
       "    <tr>\n",
       "      <th>10</th>\n",
       "      <td>sensor2</td>\n",
       "      <td>Temperature</td>\n",
       "      <td>2018</td>\n",
       "      <td>99</td>\n",
       "    </tr>\n",
       "    <tr>\n",
       "      <th>11</th>\n",
       "      <td>sensor2</td>\n",
       "      <td>Flow</td>\n",
       "      <td>2018</td>\n",
       "      <td>94</td>\n",
       "    </tr>\n",
       "  </tbody>\n",
       "</table>\n",
       "</div>"
      ],
      "text/plain": [
       "     Sensor       Metric variable  value\n",
       "0   sensor1     Pressure     2017     83\n",
       "1   sensor1  Temperature     2017     49\n",
       "2   sensor1         Flow     2017     61\n",
       "3   sensor2     Pressure     2017     64\n",
       "4   sensor2  Temperature     2017     41\n",
       "5   sensor2         Flow     2017     91\n",
       "6   sensor1     Pressure     2018     49\n",
       "7   sensor1  Temperature     2018     90\n",
       "8   sensor1         Flow     2018     72\n",
       "9   sensor2     Pressure     2018     58\n",
       "10  sensor2  Temperature     2018     99\n",
       "11  sensor2         Flow     2018     94"
      ]
     },
     "execution_count": 9,
     "metadata": {},
     "output_type": "execute_result"
    }
   ],
   "source": [
    "df_sensors.melt(id_vars=['Sensor', 'Metric'],\n",
    "                value_vars=['2017', '2018'])"
   ]
  },
  {
   "cell_type": "markdown",
   "metadata": {},
   "source": [
    "As mentioned above `melt` works similar to `stack` but gives more flexibility. In the above step we can see that we can mention the index and value columns and using `id_vars` and `value_vars`. `melt`  assigns `variable`, `value` as the default namess for the variable and value column. Inorder to avoid to this we can pass the parameters `var_name` and `value_name` with the appropriate names."
   ]
  },
  {
   "cell_type": "code",
   "execution_count": 10,
   "metadata": {},
   "outputs": [
    {
     "ename": "KeyError",
     "evalue": "\"The following 'value_vars' are not present in the DataFrame: ['2019']\"",
     "output_type": "error",
     "traceback": [
      "\u001b[0;31m---------------------------------------------------------------------------\u001b[0m",
      "\u001b[0;31mKeyError\u001b[0m                                  Traceback (most recent call last)",
      "\u001b[0;32m<ipython-input-10-9c50b11177e3>\u001b[0m in \u001b[0;36m<module>\u001b[0;34m\u001b[0m\n\u001b[1;32m      2\u001b[0m                 \u001b[0mvalue_vars\u001b[0m\u001b[0;34m=\u001b[0m\u001b[0;34m[\u001b[0m\u001b[0;34m'2018'\u001b[0m\u001b[0;34m,\u001b[0m \u001b[0;34m'2019'\u001b[0m\u001b[0;34m]\u001b[0m\u001b[0;34m,\u001b[0m\u001b[0;34m\u001b[0m\u001b[0;34m\u001b[0m\u001b[0m\n\u001b[1;32m      3\u001b[0m                 \u001b[0mvar_name\u001b[0m\u001b[0;34m=\u001b[0m\u001b[0;34m'Year'\u001b[0m\u001b[0;34m,\u001b[0m\u001b[0;34m\u001b[0m\u001b[0;34m\u001b[0m\u001b[0m\n\u001b[0;32m----> 4\u001b[0;31m                 value_name='value')\n\u001b[0m",
      "\u001b[0;32m~/anaconda3/lib/python3.7/site-packages/pandas/core/frame.py\u001b[0m in \u001b[0;36mmelt\u001b[0;34m(self, id_vars, value_vars, var_name, value_name, col_level)\u001b[0m\n\u001b[1;32m   6092\u001b[0m         return melt(self, id_vars=id_vars, value_vars=value_vars,\n\u001b[1;32m   6093\u001b[0m                     \u001b[0mvar_name\u001b[0m\u001b[0;34m=\u001b[0m\u001b[0mvar_name\u001b[0m\u001b[0;34m,\u001b[0m \u001b[0mvalue_name\u001b[0m\u001b[0;34m=\u001b[0m\u001b[0mvalue_name\u001b[0m\u001b[0;34m,\u001b[0m\u001b[0;34m\u001b[0m\u001b[0;34m\u001b[0m\u001b[0m\n\u001b[0;32m-> 6094\u001b[0;31m                     col_level=col_level)\n\u001b[0m\u001b[1;32m   6095\u001b[0m \u001b[0;34m\u001b[0m\u001b[0m\n\u001b[1;32m   6096\u001b[0m     \u001b[0;31m# ----------------------------------------------------------------------\u001b[0m\u001b[0;34m\u001b[0m\u001b[0;34m\u001b[0m\u001b[0;34m\u001b[0m\u001b[0m\n",
      "\u001b[0;32m~/anaconda3/lib/python3.7/site-packages/pandas/core/reshape/melt.py\u001b[0m in \u001b[0;36mmelt\u001b[0;34m(frame, id_vars, value_vars, var_name, value_name, col_level)\u001b[0m\n\u001b[1;32m     64\u001b[0m                 raise KeyError(\"The following 'value_vars' are not present in\"\n\u001b[1;32m     65\u001b[0m                                \u001b[0;34m\" the DataFrame: {missing}\"\u001b[0m\u001b[0;34m\u001b[0m\u001b[0;34m\u001b[0m\u001b[0m\n\u001b[0;32m---> 66\u001b[0;31m                                \"\".format(missing=list(missing)))\n\u001b[0m\u001b[1;32m     67\u001b[0m         \u001b[0mframe\u001b[0m \u001b[0;34m=\u001b[0m \u001b[0mframe\u001b[0m\u001b[0;34m.\u001b[0m\u001b[0mloc\u001b[0m\u001b[0;34m[\u001b[0m\u001b[0;34m:\u001b[0m\u001b[0;34m,\u001b[0m \u001b[0mid_vars\u001b[0m \u001b[0;34m+\u001b[0m \u001b[0mvalue_vars\u001b[0m\u001b[0;34m]\u001b[0m\u001b[0;34m\u001b[0m\u001b[0;34m\u001b[0m\u001b[0m\n\u001b[1;32m     68\u001b[0m     \u001b[0;32melse\u001b[0m\u001b[0;34m:\u001b[0m\u001b[0;34m\u001b[0m\u001b[0;34m\u001b[0m\u001b[0m\n",
      "\u001b[0;31mKeyError\u001b[0m: \"The following 'value_vars' are not present in the DataFrame: ['2019']\""
     ]
    }
   ],
   "source": [
    "df_sensors.melt(id_vars=['Sensor', 'Metric'],\n",
    "                value_vars=['2017', '2018'],\n",
    "                var_name='Year',\n",
    "                value_name='value')"
   ]
  },
  {
   "cell_type": "markdown",
   "metadata": {},
   "source": [
    "__Important points about `melt`__:\n",
    "- The `id_vars` or the identification variables remain in the same column but repeat for each of the `value_vars`\n",
    "- One crucial aspect of `melt` is that it ignores the values in index infact it drops the existing index and replaces it\n",
    "  with the `RangeIndex`. so if you have values in index that you want to keep, you need to do a `reset_index` before\n",
    "  apllying `melt`."
   ]
  },
  {
   "cell_type": "markdown",
   "metadata": {},
   "source": [
    "__Note: The transformation of horizontal column names into vertical column values as `melting`, `stacking`, or `unpivoting`.__ "
   ]
  },
  {
   "cell_type": "markdown",
   "metadata": {},
   "source": [
    "# Unstack\n",
    "\n",
    "DataFrames have two similar methods `stack` and `melt` to convert horizontal column names into vertical column values. Dataframes have the ability to invert these two opeartions using `unstack` and `pivot` methods. `stack`/ `unstack` are simpler methods which allow control over column/row indexes whereas `melt`/`pivot` give more flexibility to choose which columns to be reshaped.\n",
    "\n",
    "Below are the parameters for the `unstack` method. By default it takes the inner most index values and returns a dataframe by reshapong them as the columns.\n",
    "- `level`: (int or string or list of these) level(s) of index to unstack, defaults to -1\n",
    "- `fill_value`: replace NAN with value specified if unstack produces missing values."
   ]
  },
  {
   "cell_type": "code",
   "execution_count": null,
   "metadata": {},
   "outputs": [],
   "source": [
    "# let us consider melted output and load into a dataframe df_melted\n",
    "df_melted = df_sensors.melt(id_vars=['Sensor', 'Metric'],\n",
    "                value_vars=['2017', '2018'],\n",
    "                var_name='Year',\n",
    "                value_name='value')"
   ]
  },
  {
   "cell_type": "code",
   "execution_count": null,
   "metadata": {},
   "outputs": [],
   "source": [
    "df_melted"
   ]
  },
  {
   "cell_type": "markdown",
   "metadata": {},
   "source": [
    "In order to observe `sensors` yearly metric values with each metric as a column, we can use a `unstack` operation on the dataframe. Similar to `stack` method we have to first set the columns which we want to stay in index using `set_index` and then apply `unstack`."
   ]
  },
  {
   "cell_type": "code",
   "execution_count": null,
   "metadata": {},
   "outputs": [],
   "source": [
    "df_melted.set_index(['Sensor', 'Year', 'Metric'])"
   ]
  },
  {
   "cell_type": "code",
   "execution_count": null,
   "metadata": {},
   "outputs": [],
   "source": [
    "df_melted.set_index(['Sensor', 'Year', 'Metric']).unstack()"
   ]
  },
  {
   "cell_type": "code",
   "execution_count": null,
   "metadata": {},
   "outputs": [],
   "source": [
    "df_melted.set_index(['Sensor', 'Year', 'Metric']).unstack(level=[-2,-1])"
   ]
  },
  {
   "cell_type": "markdown",
   "metadata": {},
   "source": [
    "# Pivot\n",
    "\n",
    "`pivot` takes in 3 parameters (mentioned below) as input which are `index`, `columns` and `values`. Each parameter takes in a single column as a string. The `index` remains in the vertical and becomes the new index. The values of the columns referenced by `columns` becomes new column names. The values referenced by the `values` are tiled to correspond the intersection of their former index and columns label.\n",
    "\n",
    "- `index`: (string or object) Column to use for the new frames index, if none use current index.\n",
    "- `columns`: (string or object) Column to use for the new frames columns.\n",
    "- `values` : (string or object) column(s) to use for the new frames values.\n",
    "\n",
    "__Note__: __`pivot` raises a `ValueError` when any index or column combinations has multiple values .__       "
   ]
  },
  {
   "cell_type": "code",
   "execution_count": null,
   "metadata": {},
   "outputs": [],
   "source": [
    "# let us consider melted output and load into a dataframe df_melted\n",
    "df_melted2 = df_sensors.melt(id_vars=['Sensor', 'Metric'],\n",
    "                value_vars=['2017', '2018'],\n",
    "                var_name='Year',\n",
    "                value_name='value')\n",
    "df_melted2.head(10)"
   ]
  },
  {
   "cell_type": "code",
   "execution_count": null,
   "metadata": {},
   "outputs": [],
   "source": [
    "# Sensors Yearly Pressure\n",
    "df_melted[df_melted['Metric'] == 'Pressure'].pivot(index='Sensor', columns='Year', values='value')"
   ]
  },
  {
   "cell_type": "code",
   "execution_count": null,
   "metadata": {},
   "outputs": [],
   "source": [
    "# Yearly Temperature\n",
    "df_melted[df_melted['Metric'] == 'Temperature'].pivot(index='Sensor', columns='Year', values='value')"
   ]
  },
  {
   "cell_type": "code",
   "execution_count": null,
   "metadata": {},
   "outputs": [],
   "source": [
    "# Yearly Flow\n",
    "df_melted[df_melted['Metric'] == 'Flow'].pivot(index='Sensor', columns='Year', values='value')"
   ]
  },
  {
   "cell_type": "markdown",
   "metadata": {},
   "source": [
    "`pivot` function can be used to view individual metric values for all the sensors. `pivot` cannot take more than one index at a time."
   ]
  },
  {
   "cell_type": "markdown",
   "metadata": {},
   "source": [
    "# Pivot_table\n",
    "\n",
    "`pivot_table` is a versatile and flexible function. It's funtionality is similar to the pandas `groupby` function. Below mentioned are the list of the function paramters. The `index` parameter takes a column(or columns) which is not pivoted and whose unique values will be placed in the index. The `columns` paramters takes a column(or columns) which are pivoted and whose unique values will form the new columns. The `values` parameter takes a column that will be aggregated. There is also and `aggfunc` which takes a aggregation function that determines how the `values` column is aggregated. By default the aggregation is `mean`, also there is `fill_value` parameter which forces the missing value intersections to the value specified. The function also has some default parameters `margins`, `dropna`, `margins_name` whose usage is explained in the following examples.\n",
    "\n",
    "- `index`: (column, list, array, Grouper) column(s) which is intended to stay as index.\n",
    "- `columns`: (column, list, array, Grouper) column(s) which are pivoted.\n",
    "- `values` : column to aggregate.\n",
    "- `aggfunc`: function, list of aggregation functions.\n",
    "- `fill_value`: (scalar, defult None) Scalar to fill for missing values in the result.\n",
    "- `margins`: (Bool, default False ) whether to add all rows/columns(eg: subtotal or grand total)\n",
    "- `dropna`: (Bool, default True) Do not include columns whose values for all rows are NaN.\n",
    "- `margins_name`: (string, default All) Name of the row / column that will contain the totals when margins is True.\n",
    "\n",
    "__Note:`pivot` method raises a ValueError when there are duplicate entries in the index column, `pivot_table` solves this problem by aggregating the values from rows with duplicate entries for the specified columns.__  "
   ]
  },
  {
   "cell_type": "code",
   "execution_count": null,
   "metadata": {},
   "outputs": [],
   "source": [
    "# let us consider melted output and load into a dataframe df_melted\n",
    "df_step1 = df_sensors.melt(id_vars=['Sensor', 'Metric'],\n",
    "                value_vars=['2017', '2018'],\n",
    "                var_name='Year',\n",
    "                value_name='value')\n",
    "df_step1.head(10)"
   ]
  },
  {
   "cell_type": "code",
   "execution_count": null,
   "metadata": {},
   "outputs": [],
   "source": [
    "df_step1.pivot_table(index=['Sensor', 'Year'],\n",
    "                                columns='Metric',\n",
    "                                values='value')"
   ]
  },
  {
   "cell_type": "code",
   "execution_count": null,
   "metadata": {},
   "outputs": [],
   "source": [
    "df_step1.pivot_table(index=['Sensor', 'Year'],\n",
    "                     columns='Metric',\n",
    "                     values='value',\n",
    "                     aggfunc=[np.sum, np.mean],\n",
    "                     fill_value=0,\n",
    "                     margins=True,\n",
    "                     margins_name='Total')"
   ]
  },
  {
   "cell_type": "code",
   "execution_count": null,
   "metadata": {},
   "outputs": [],
   "source": []
  },
  {
   "cell_type": "code",
   "execution_count": null,
   "metadata": {},
   "outputs": [],
   "source": []
  },
  {
   "cell_type": "code",
   "execution_count": null,
   "metadata": {},
   "outputs": [],
   "source": []
  },
  {
   "cell_type": "code",
   "execution_count": null,
   "metadata": {},
   "outputs": [],
   "source": []
  },
  {
   "cell_type": "code",
   "execution_count": null,
   "metadata": {},
   "outputs": [],
   "source": []
  },
  {
   "cell_type": "code",
   "execution_count": null,
   "metadata": {},
   "outputs": [],
   "source": []
  },
  {
   "cell_type": "code",
   "execution_count": null,
   "metadata": {},
   "outputs": [],
   "source": []
  },
  {
   "cell_type": "code",
   "execution_count": null,
   "metadata": {},
   "outputs": [],
   "source": []
  },
  {
   "cell_type": "code",
   "execution_count": null,
   "metadata": {},
   "outputs": [],
   "source": [
    "\n"
   ]
  }
 ],
 "metadata": {
  "kernelspec": {
   "display_name": "Python 3",
   "language": "python",
   "name": "python3"
  },
  "language_info": {
   "codemirror_mode": {
    "name": "ipython",
    "version": 3
   },
   "file_extension": ".py",
   "mimetype": "text/x-python",
   "name": "python",
   "nbconvert_exporter": "python",
   "pygments_lexer": "ipython3",
   "version": "3.7.3"
  }
 },
 "nbformat": 4,
 "nbformat_minor": 2
}
